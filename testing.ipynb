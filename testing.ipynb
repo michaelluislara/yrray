{
 "cells": [
  {
   "cell_type": "code",
   "execution_count": 1,
   "metadata": {},
   "outputs": [],
   "source": [
    "import requests\n",
    "\n",
    "cubes = requests.get('https://www150.statcan.gc.ca/t1/wds/rest/getAllCubesListLite', stream=True)\n",
    "cubelist = cubes.json()\n",
    "cubelist = sorted(cubelist, key=lambda d: d['cubeTitleEn'])"
   ]
  },
  {
   "cell_type": "code",
   "execution_count": 2,
   "metadata": {},
   "outputs": [
    {
     "data": {
      "text/plain": [
       "{'productId': 25100008,\n",
       " 'cansimId': '128-0008',\n",
       " 'cubeTitleEn': '1990 based estimates, industrial consumption of energy (ICE), energy fuel consumption of manufacturing industries in gigajoules, by North American Industry Classification System (NAICS)',\n",
       " 'cubeTitleFr': \"Estimations 1990, consommation industrielle d'énergie (CIE), la consommation énergétique de combustibles pour les industries manufacturières, en gigajoules, selon le Système de classification des industries de l'Amérique du Nord (SCIAN)\",\n",
       " 'cubeStartDate': '1990-01-01',\n",
       " 'cubeEndDate': '1990-01-01',\n",
       " 'releaseTime': '2004-04-16T12:30',\n",
       " 'archived': '1',\n",
       " 'subjectCode': ['25'],\n",
       " 'surveyCode': ['5047'],\n",
       " 'frequencyCode': 12,\n",
       " 'corrections': []}"
      ]
     },
     "execution_count": 2,
     "metadata": {},
     "output_type": "execute_result"
    }
   ],
   "source": [
    "cubelist[0]"
   ]
  },
  {
   "cell_type": "code",
   "execution_count": null,
   "metadata": {},
   "outputs": [],
   "source": [
    "for i in cubelist:\n",
    "    print(i['cubeTitleEn'])"
   ]
  },
  {
   "cell_type": "code",
   "execution_count": 2,
   "metadata": {},
   "outputs": [],
   "source": [
    "import re\n",
    "searchterm = \"estimate\""
   ]
  },
  {
   "cell_type": "code",
   "execution_count": 12,
   "metadata": {},
   "outputs": [
    {
     "name": "stdout",
     "output_type": "stream",
     "text": [
      "estimate\n"
     ]
    }
   ],
   "source": [
    "print(searchterm)"
   ]
  },
  {
   "cell_type": "code",
   "execution_count": 20,
   "metadata": {},
   "outputs": [],
   "source": [
    "reobj = re.compile(\"unicorn\")"
   ]
  },
  {
   "cell_type": "code",
   "execution_count": 21,
   "metadata": {},
   "outputs": [
    {
     "name": "stdout",
     "output_type": "stream",
     "text": [
      "None\n"
     ]
    }
   ],
   "source": [
    "print(reobj.search(cubelist[0]['cubeTitleEn']))"
   ]
  },
  {
   "cell_type": "code",
   "execution_count": 19,
   "metadata": {},
   "outputs": [
    {
     "data": {
      "text/plain": [
       "'1990 based estimates, industrial consumption of energy (ICE), energy fuel consumption of manufacturing industries in gigajoules, by North American Industry Classification System (NAICS)'"
      ]
     },
     "execution_count": 19,
     "metadata": {},
     "output_type": "execute_result"
    }
   ],
   "source": [
    "cubelist[0]['cubeTitleEn']"
   ]
  },
  {
   "cell_type": "code",
   "execution_count": 26,
   "metadata": {},
   "outputs": [],
   "source": [
    "\n",
    "newlist = []\n",
    "reobj = re.compile(searchterm)\n",
    "for i in cubelist:\n",
    "    result = reobj.search(string=i['cubeTitleEn'])\n",
    "    if result is not None:\n",
    "        newlist.append(i)"
   ]
  },
  {
   "cell_type": "code",
   "execution_count": 27,
   "metadata": {},
   "outputs": [
    {
     "name": "stdout",
     "output_type": "stream",
     "text": [
      "157\n",
      "6819\n"
     ]
    }
   ],
   "source": [
    "print(len(newlist))\n",
    "print(len(cubelist))\n"
   ]
  },
  {
   "cell_type": "code",
   "execution_count": null,
   "metadata": {},
   "outputs": [],
   "source": [
    "print(newlist)"
   ]
  },
  {
   "cell_type": "code",
   "execution_count": 25,
   "metadata": {},
   "outputs": [],
   "source": [
    "for i in cubelist:\n",
    "    print(cubelist)"
   ]
  },
  {
   "cell_type": "code",
   "execution_count": 22,
   "metadata": {},
   "outputs": [
    {
     "data": {
      "text/plain": [
       "NoneType"
      ]
     },
     "execution_count": 22,
     "metadata": {},
     "output_type": "execute_result"
    }
   ],
   "source": [
    "type(reobj.search(i['cubeTitleEn']))d"
   ]
  },
  {
   "cell_type": "code",
   "execution_count": 24,
   "metadata": {},
   "outputs": [
    {
     "data": {
      "text/plain": [
       "re.Match"
      ]
     },
     "execution_count": 24,
     "metadata": {},
     "output_type": "execute_result"
    }
   ],
   "source": [
    "type(reobj.search(\"hello\"))"
   ]
  },
  {
   "cell_type": "code",
   "execution_count": null,
   "metadata": {},
   "outputs": [],
   "source": [
    "reobj"
   ]
  }
 ],
 "metadata": {
  "kernelspec": {
   "display_name": "Python 3.8.13 ('base')",
   "language": "python",
   "name": "python3"
  },
  "language_info": {
   "codemirror_mode": {
    "name": "ipython",
    "version": 3
   },
   "file_extension": ".py",
   "mimetype": "text/x-python",
   "name": "python",
   "nbconvert_exporter": "python",
   "pygments_lexer": "ipython3",
   "version": "3.8.13"
  },
  "orig_nbformat": 4,
  "vscode": {
   "interpreter": {
    "hash": "263c631ae45e23237671cb112deea0d21cf430fbd060d1074ef6b2ef017226c6"
   }
  }
 },
 "nbformat": 4,
 "nbformat_minor": 2
}
